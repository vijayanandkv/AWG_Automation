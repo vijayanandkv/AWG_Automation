{
 "cells": [
  {
   "cell_type": "code",
   "execution_count": 2,
   "id": "be3433ff",
   "metadata": {},
   "outputs": [
    {
     "data": {
      "text/plain": [
       "'Device not connected'"
      ]
     },
     "execution_count": 2,
     "metadata": {},
     "output_type": "execute_result"
    }
   ],
   "source": [
    "from logger import awg_logger\n",
    "from AWGConnection import AWG_connection\n",
    "from AWGStaus import AWG_system_status\n",
    "from AWGController import AWG_Controller\n",
    "\n",
    "awg = AWG_Controller('10.2.3.0')\n",
    "awg.connection.connect()\n",
    "awg.connection.is_connected()\n"
   ]
  }
 ],
 "metadata": {
  "kernelspec": {
   "display_name": "Python (Jupyter Env)",
   "language": "python",
   "name": "vscode_jupyter_env"
  },
  "language_info": {
   "codemirror_mode": {
    "name": "ipython",
    "version": 3
   },
   "file_extension": ".py",
   "mimetype": "text/x-python",
   "name": "python",
   "nbconvert_exporter": "python",
   "pygments_lexer": "ipython3",
   "version": "3.12.3"
  }
 },
 "nbformat": 4,
 "nbformat_minor": 5
}
